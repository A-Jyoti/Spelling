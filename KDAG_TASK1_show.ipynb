{
 "cells": [
  {
   "cell_type": "markdown",
   "id": "013d55cd-d04f-4387-8458-8566a0cfddb9",
   "metadata": {},
   "source": [
    "# Correct Spelling "
   ]
  },
  {
   "cell_type": "markdown",
   "id": "9a7a383e-277a-408c-8d0c-ce4c88b8fcda",
   "metadata": {},
   "source": [
    "***Importing different libraries***\n",
    "Here we are importing matplotlib library to plot the bar diagram from the data and pandas library to read data from the given excel sheet."
   ]
  },
  {
   "cell_type": "code",
   "execution_count": 1,
   "id": "a662ca43-4f64-48b1-8aa6-847db0442338",
   "metadata": {},
   "outputs": [],
   "source": [
    "import matplotlib.pyplot as plt\n",
    "import pandas as pd"
   ]
  },
  {
   "cell_type": "markdown",
   "id": "a6d7fb32-5655-4152-b611-2826280b0c7c",
   "metadata": {},
   "source": [
    "***Making List***\n",
    "Defining a list of correct career options that will be used to match and correct the student responses."
   ]
  },
  {
   "cell_type": "code",
   "execution_count": 2,
   "id": "ad2202e2-d3aa-4bfd-a276-92bc2f73977c",
   "metadata": {},
   "outputs": [],
   "source": [
    "options = [\n",
    "    \"Doctor\", \"Lawyer\", \"Teacher\", \"Engineer\", \"Accountant\",\n",
    "    \"Nurse\", \"Police\", \"Architect\", \"Dentist\", \"Pharmacist\"\n",
    "]"
   ]
  },
  {
   "cell_type": "markdown",
   "id": "609420bc-d8ed-4fdf-86ce-28f3c06a3b2f",
   "metadata": {},
   "source": [
    "***Taking Input from Excel Sheet(given data)*** \n",
    "Using *pandas* library functions we are reading the data from the *\"TaskData.xlsx\"* and store it in the variable *df*. Note that the excel sheet is stored in the same folder as the python code file. Now another function is used to access the first column of the tabular data inside *df* to a list of data that gives us career responses given by students given in the task sheet.It is now stored inside a list element.\n"
   ]
  },
  {
   "cell_type": "code",
   "execution_count": 3,
   "id": "4d39acda-b2bc-4755-b256-a5072c0d06fe",
   "metadata": {},
   "outputs": [],
   "source": [
    "df= pd.read_excel(\"TaskData.xlsx\", header=None)\n",
    "student_choices = df.iloc[:, 0].tolist()\n"
   ]
  },
  {
   "cell_type": "markdown",
   "id": "a0516662-9ff3-436c-a38a-5524f2d4e408",
   "metadata": {},
   "source": [
    "***Levenshtein Distance Calculation Function***\n",
    "This function calculates the minimum number of single-character edits like replace, insert and delete to calculate minimum distance between two given strings a and b. If length of b is greater than a we *swap* the position. For *edge case* length of a will be the distance if b is a empty string."
   ]
  },
  {
   "cell_type": "markdown",
   "id": "e0029560-7394-4141-92b0-0f5c04fc6e17",
   "metadata": {},
   "source": [
    "Initialising a row prev_row representing the distances from an empty string to part of string b. Initially, this is simply the indices of b that is range(len(b) +1)"
   ]
  },
  {
   "cell_type": "markdown",
   "id": "c1dd91c8-44ae-4508-91ce-df313aef593f",
   "metadata": {},
   "source": [
    "Now start filing matrix by using *loop*. The first loop runs through each character *char1* of string *a*. Start the *curr_row* with the index of *char1* added with 1. It will help to create the new row of the matrix. Then the second loop iterates over the characters *char2* of string *b* and checks the number of operation needed in the three edit methods *insert*, *delete* and *replace*. Variables *replace* stores the number of steps it would take to convert *a* up to *char1* to *b* up to *char2* by substituting a character but if the *char1* and *char2* is same 0 step count added. Next *insert* stores the number of steps it would take to convert *a* up to *char1* to *b* up to *char2* by inserting a character. Last *delete* stores the number of steps it would take to convert *a* up to *char1* to *b* up to *char2* by deleting a character."
   ]
  },
  {
   "cell_type": "markdown",
   "id": "c661be32-7945-42ab-825c-f54e66d56a44",
   "metadata": {},
   "source": [
    "Now we have to add the minimum of the three edit method steps to *curr_row* to get the value of that position of the matrix.\n",
    "Now for next iteration of first loop our *prev_row* becomes our *curr_row*. Thus after completing all the iterations we get diagonal element of the matrix that is the Levenshtein distance for the two strings *a* and *b*."
   ]
  },
  {
   "cell_type": "code",
   "execution_count": 4,
   "id": "1fcce1c1-8514-4b1d-8303-345807419285",
   "metadata": {},
   "outputs": [],
   "source": [
    "def levenshtein_distance(a, b):\n",
    "    if len(a) < len(b):\n",
    "        return levenshtein_distance(b, a)\n",
    "    \n",
    "    if len(b) == 0:\n",
    "        return len(a)\n",
    "    \n",
    "    prev_row = range(len(b) + 1)\n",
    "    for i, char1 in enumerate(a):\n",
    "        curr_row = [i + 1]\n",
    "        for j, char2 in enumerate(b):\n",
    "            replace = prev_row[j] + (char1 != char2)\n",
    "            insert = prev_row[j + 1] + 1\n",
    "            delete = curr_row[j] + 1\n",
    "            curr_row.append(min(replace, insert, delete))\n",
    "        prev_row = curr_row\n",
    "    \n",
    "    return prev_row[-1]"
   ]
  },
  {
   "cell_type": "markdown",
   "id": "32ce38eb-6174-47ce-ad20-71a6f1f23750",
   "metadata": {},
   "source": [
    "***Levenshtein Algorithm Explanation Using an Example by the Code***\n",
    "How this code fills the matrix of words and find the minimum distance of two words here we have explained taking 2 words by calculating Levenshtein distance manually. Let's calculate the minimum distance of \"kitten\" and \"sitting\":"
   ]
  },
  {
   "cell_type": "markdown",
   "id": "c3c879e0-7326-4605-95ab-69463931b8b3",
   "metadata": {},
   "source": [
    "Initially the row indices are shown, the words are written in the matrix form. Here for calculation of index we have considered a blank string before each word."
   ]
  },
  {
   "cell_type": "raw",
   "id": "328d8f3e-2bd4-456a-b7b3-7c9b4c72f214",
   "metadata": {},
   "source": [
    "   \"\"  s  i  t  t  i  n  g\n",
    "\"\"  0  1  2  3  4  5  6  7\n",
    "k   1\n",
    "i   2\n",
    "t   3\n",
    "t   4\n",
    "e   5\n",
    "n   6\n"
   ]
  },
  {
   "cell_type": "markdown",
   "id": "07501983-e739-4f3a-b5d9-a5ee62a320f7",
   "metadata": {},
   "source": [
    "Now replace, insert and delete algorithms of the code are applied in increasing sections of the word taking parts of strings like first as *s* then *si* then *sit* then sitt* and so on and same for the another word. Taking the minimum of these three operations the each row is filled for each character of(i,j) position and the next row is updated using the same. Thus the matrix is filled and shown."
   ]
  },
  {
   "cell_type": "raw",
   "id": "2bb79af4-72ce-428f-9a51-984e9386b5d9",
   "metadata": {},
   "source": [
    "    \"\" s  i  t  t  i  n  g\n",
    "\"\"  0  1  2  3  4  5  6  7\n",
    "k   1  1  2  3  4  5  6  7\n",
    "i   2  2  1  2  3  4  5  6\n",
    "t   3  3  2  1  2  3  4  5\n",
    "t   4  4  3  2  1  2  3  4\n",
    "e   5  5  4  3  2  2  3  4\n",
    "n   6  6  5  4  3  3  2  3\n"
   ]
  },
  {
   "cell_type": "markdown",
   "id": "b819fff4-1bd7-40ef-861c-d8879e3f5949",
   "metadata": {},
   "source": [
    "Now the value of the last diagonal element that is the last element of the last row is coming out to be the shortest distance of the whole words. This is the Levenshtein Distance. Here the value is **3**"
   ]
  },
  {
   "cell_type": "markdown",
   "id": "88a5990e-602f-49b9-828f-4d23a6a2718e",
   "metadata": {},
   "source": [
    "***Spelling Correction Function***\n",
    "This function takes the list of given data of responses(with spelling errors) and corrects them by finding with the smallest Levenshtein distance to each option. It makes every charecter in lower case in both response and option to compare. Then it creates a list of corrected responses and retirns it. The *min_dist* stores the minimum distance of one wrong input with the options."
   ]
  },
  {
   "cell_type": "code",
   "execution_count": 5,
   "id": "27710f09-e4f4-499b-9e48-c4f52f306926",
   "metadata": {},
   "outputs": [],
   "source": [
    "def spelling_correction(inputs):\n",
    "    corrected_responses = []\n",
    "    for element in inputs:\n",
    "        distances = [levenshtein_distance(element.lower(), opt.lower()) for opt in options]\n",
    "        min_dist = min(distances)\n",
    "        corrected_responses.append(options[distances.index(min_dist)])\n",
    "    return corrected_responses"
   ]
  },
  {
   "cell_type": "markdown",
   "id": "b1eeba74-e45d-47d9-a420-47661b0d15d0",
   "metadata": {},
   "source": [
    "***Spelling Correction of the given data***\n",
    "We use the spelling_correction function to correct the wrongly spelled inputs in the given data that had been stored in *student_choices* in form of list and stored in a new list."
   ]
  },
  {
   "cell_type": "code",
   "execution_count": 6,
   "id": "a42c165e-627b-428a-bf7d-73afabc48e43",
   "metadata": {},
   "outputs": [],
   "source": [
    "career_choices = spelling_correction(student_choices)"
   ]
  },
  {
   "cell_type": "markdown",
   "id": "3bfce311-0c66-4fa5-9e15-60f29e789173",
   "metadata": {},
   "source": [
    "***Count Frequency of Each Career Option***\n",
    "We create a dictionary element *career_freq* to count how many times each corrected career choice appears in the list of given responses. We use the *count* function to count the frequency of each string in *options*."
   ]
  },
  {
   "cell_type": "code",
   "execution_count": 7,
   "id": "458a4fdf-b8d5-4545-8e78-ac8068bf5c9d",
   "metadata": {},
   "outputs": [],
   "source": [
    "career_freq = {career: career_choices.count(career) for career in options}"
   ]
  },
  {
   "cell_type": "markdown",
   "id": "c24ae4be-c301-49b6-8abf-8f723aff7703",
   "metadata": {},
   "source": [
    "***Plotting the bar chart***\n",
    "Using *matplotlib* library functions we have created the bar chart showing the number of students aspiring a career option."
   ]
  },
  {
   "cell_type": "markdown",
   "id": "4f109df2-527f-470c-bf9c-1f17af7f77f7",
   "metadata": {},
   "source": [
    "*plt.figure(figsize=(8, 5))*: Sets the size of the figure."
   ]
  },
  {
   "cell_type": "markdown",
   "id": "f171d56c-04bf-47fd-95f8-bde27d1fe4e6",
   "metadata": {},
   "source": [
    "*plt.bar(career_freq.keys(), career_freq.values(), color='darkviolet')*: Creates the bar chart with the career choices on the x-axis and their frequencies on the y-axis."
   ]
  },
  {
   "cell_type": "markdown",
   "id": "777625db-4705-440f-a8d4-a83a28f50ceb",
   "metadata": {},
   "source": [
    "*plt.xlabel*, *plt.ylabel* and *plt.title*: Label the axes and the chart."
   ]
  },
  {
   "cell_type": "markdown",
   "id": "d70c49b7-ed35-4e8f-b383-f524d738abc0",
   "metadata": {},
   "source": [
    "*plt.xticks(rotation=45)*: Rotates the x-axis labels for better readability."
   ]
  },
  {
   "cell_type": "markdown",
   "id": "676ff980-e3ba-42b1-aa46-469d5306f2a0",
   "metadata": {},
   "source": [
    "*plt.show()*: Finally displays the bar chart."
   ]
  },
  {
   "cell_type": "code",
   "execution_count": 8,
   "id": "2aa8e437-6281-4c9e-b104-13d51ffc3094",
   "metadata": {},
   "outputs": [
    {
     "data": {
      "image/png": "[encoded data removed]",
      "text/plain": [
       "<Figure size 800x500 with 1 Axes>"
      ]
     },
     "metadata": {},
     "output_type": "display_data"
    }
   ],
   "source": [
    "plt.figure(figsize=(8, 5))\n",
    "plt.bar(career_freq.keys(), career_freq.values(), color='darkviolet')\n",
    "plt.xlabel('Career Choices')\n",
    "plt.ylabel('Number of Students')\n",
    "plt.title('Students\\' Career Choice')\n",
    "plt.xticks(rotation=45)\n",
    "plt.show()"
   ]
  }
 ],
 "metadata": {
  "kernelspec": {
   "display_name": "Python 3 (ipykernel)",
   "language": "python",
   "name": "python3"
  },
  "language_info": {
   "codemirror_mode": {
    "name": "ipython",
    "version": 3
   },
   "file_extension": ".py",
   "mimetype": "text/x-python",
   "name": "python",
   "nbconvert_exporter": "python",
   "pygments_lexer": "ipython3",
   "version": "3.12.3"
  }
 },
 "nbformat": 4,
 "nbformat_minor": 5
}
